{
  "nbformat": 4,
  "nbformat_minor": 0,
  "metadata": {
    "colab": {
      "provenance": [],
      "authorship_tag": "ABX9TyOGGcwC6VWXtl7tvxPyQ/t0",
      "include_colab_link": true
    },
    "kernelspec": {
      "name": "python3",
      "display_name": "Python 3"
    },
    "language_info": {
      "name": "python"
    }
  },
  "cells": [
    {
      "cell_type": "markdown",
      "metadata": {
        "id": "view-in-github",
        "colab_type": "text"
      },
      "source": [
        "<a href=\"https://colab.research.google.com/github/Leonardogotz/Sistema_de_Cadastro/blob/main/GUSTAVO_CALIL_SUBCONJUNTO_TRABALHO_3.ipynb\" target=\"_parent\"><img src=\"https://colab.research.google.com/assets/colab-badge.svg\" alt=\"Open In Colab\"/></a>"
      ]
    },
    {
      "cell_type": "code",
      "execution_count": 39,
      "metadata": {
        "colab": {
          "base_uri": "https://localhost:8080/"
        },
        "id": "aDfBl14FpvMr",
        "outputId": "42ccfb38-8d63-44b9-d539-39c9f3133207"
      },
      "outputs": [
        {
          "output_type": "stream",
          "name": "stdout",
          "text": [
            "Deseja inserir um item, Sim ou Não:\n",
            "Sim\n",
            "Escreva o item(Digite 'Não' para sair):\n",
            "Bola\n",
            "------------------------------\n",
            "Escreva o item(Digite 'Não' para sair):\n",
            "Gol\n",
            "------------------------------\n",
            "Escreva o item(Digite 'Não' para sair):\n",
            "Jogador\n",
            "------------------------------\n",
            "Escreva o item(Digite 'Não' para sair):\n",
            "Juiz\n",
            "------------------------------\n",
            "Escreva o item(Digite 'Não' para sair):\n",
            "Campo\n",
            "------------------------------\n",
            "Escreva o item(Digite 'Não' para sair):\n",
            "Tecnico\n",
            "------------------------------\n",
            "Escreva o item(Digite 'Não' para sair):\n",
            "Não\n",
            "['Bola', 'Gol', 'Jogador', 'Juiz', 'Campo', 'Tecnico']\n"
          ]
        }
      ],
      "source": [
        "lista = []\n",
        "lista_final = []\n",
        "condicao = str\n",
        "item = str\n",
        "print(\"Deseja inserir um item, Sim ou Não:\")\n",
        "condicao = input()\n",
        "while condicao !=\"Não\":\n",
        "    print(\"Escreva o item(Digite 'Não' para sair):\")\n",
        "    item=input()\n",
        "    if item == \"Não\" :\n",
        "          condicao = item\n",
        "    else :\n",
        "          lista.append(item)\n",
        "          condicao=item\n",
        "          print(\"-\"*30)\n",
        "\n",
        "print(lista)\n",
        "\n"
      ]
    },
    {
      "cell_type": "code",
      "source": [
        "item_quantidade = len(lista)\n",
        "print(item_quantidade)"
      ],
      "metadata": {
        "colab": {
          "base_uri": "https://localhost:8080/"
        },
        "id": "6S8QQOH7DjiF",
        "outputId": "a80d5e23-ddbf-4082-c25a-88d5000fc87e"
      },
      "execution_count": 40,
      "outputs": [
        {
          "output_type": "stream",
          "name": "stdout",
          "text": [
            "6\n"
          ]
        }
      ]
    },
    {
      "cell_type": "code",
      "source": [
        "from itertools import chain, combinations\n",
        "def powerset(lista):\n",
        "    return chain.from_iterable(combinations(lista, r) for r in range(len(lista)+1))\n",
        "\n",
        "for x in powerset(lista):\n",
        "    print(x)\n",
        "    lista_final.append(x,)\n",
        "\n",
        "\n"
      ],
      "metadata": {
        "colab": {
          "base_uri": "https://localhost:8080/"
        },
        "id": "90yhbRm3aJtJ",
        "outputId": "ba9dfa57-6cec-400b-c18d-b8d7e669386c"
      },
      "execution_count": 41,
      "outputs": [
        {
          "output_type": "stream",
          "name": "stdout",
          "text": [
            "()\n",
            "('Bola',)\n",
            "('Gol',)\n",
            "('Jogador',)\n",
            "('Juiz',)\n",
            "('Campo',)\n",
            "('Tecnico',)\n",
            "('Bola', 'Gol')\n",
            "('Bola', 'Jogador')\n",
            "('Bola', 'Juiz')\n",
            "('Bola', 'Campo')\n",
            "('Bola', 'Tecnico')\n",
            "('Gol', 'Jogador')\n",
            "('Gol', 'Juiz')\n",
            "('Gol', 'Campo')\n",
            "('Gol', 'Tecnico')\n",
            "('Jogador', 'Juiz')\n",
            "('Jogador', 'Campo')\n",
            "('Jogador', 'Tecnico')\n",
            "('Juiz', 'Campo')\n",
            "('Juiz', 'Tecnico')\n",
            "('Campo', 'Tecnico')\n",
            "('Bola', 'Gol', 'Jogador')\n",
            "('Bola', 'Gol', 'Juiz')\n",
            "('Bola', 'Gol', 'Campo')\n",
            "('Bola', 'Gol', 'Tecnico')\n",
            "('Bola', 'Jogador', 'Juiz')\n",
            "('Bola', 'Jogador', 'Campo')\n",
            "('Bola', 'Jogador', 'Tecnico')\n",
            "('Bola', 'Juiz', 'Campo')\n",
            "('Bola', 'Juiz', 'Tecnico')\n",
            "('Bola', 'Campo', 'Tecnico')\n",
            "('Gol', 'Jogador', 'Juiz')\n",
            "('Gol', 'Jogador', 'Campo')\n",
            "('Gol', 'Jogador', 'Tecnico')\n",
            "('Gol', 'Juiz', 'Campo')\n",
            "('Gol', 'Juiz', 'Tecnico')\n",
            "('Gol', 'Campo', 'Tecnico')\n",
            "('Jogador', 'Juiz', 'Campo')\n",
            "('Jogador', 'Juiz', 'Tecnico')\n",
            "('Jogador', 'Campo', 'Tecnico')\n",
            "('Juiz', 'Campo', 'Tecnico')\n",
            "('Bola', 'Gol', 'Jogador', 'Juiz')\n",
            "('Bola', 'Gol', 'Jogador', 'Campo')\n",
            "('Bola', 'Gol', 'Jogador', 'Tecnico')\n",
            "('Bola', 'Gol', 'Juiz', 'Campo')\n",
            "('Bola', 'Gol', 'Juiz', 'Tecnico')\n",
            "('Bola', 'Gol', 'Campo', 'Tecnico')\n",
            "('Bola', 'Jogador', 'Juiz', 'Campo')\n",
            "('Bola', 'Jogador', 'Juiz', 'Tecnico')\n",
            "('Bola', 'Jogador', 'Campo', 'Tecnico')\n",
            "('Bola', 'Juiz', 'Campo', 'Tecnico')\n",
            "('Gol', 'Jogador', 'Juiz', 'Campo')\n",
            "('Gol', 'Jogador', 'Juiz', 'Tecnico')\n",
            "('Gol', 'Jogador', 'Campo', 'Tecnico')\n",
            "('Gol', 'Juiz', 'Campo', 'Tecnico')\n",
            "('Jogador', 'Juiz', 'Campo', 'Tecnico')\n",
            "('Bola', 'Gol', 'Jogador', 'Juiz', 'Campo')\n",
            "('Bola', 'Gol', 'Jogador', 'Juiz', 'Tecnico')\n",
            "('Bola', 'Gol', 'Jogador', 'Campo', 'Tecnico')\n",
            "('Bola', 'Gol', 'Juiz', 'Campo', 'Tecnico')\n",
            "('Bola', 'Jogador', 'Juiz', 'Campo', 'Tecnico')\n",
            "('Gol', 'Jogador', 'Juiz', 'Campo', 'Tecnico')\n",
            "('Bola', 'Gol', 'Jogador', 'Juiz', 'Campo', 'Tecnico')\n"
          ]
        }
      ]
    },
    {
      "cell_type": "code",
      "source": [
        "print(lista_final)"
      ],
      "metadata": {
        "colab": {
          "base_uri": "https://localhost:8080/"
        },
        "id": "OH2mOt5EhPuG",
        "outputId": "54a1e0da-72b5-4898-aa23-353343f31627"
      },
      "execution_count": 42,
      "outputs": [
        {
          "output_type": "stream",
          "name": "stdout",
          "text": [
            "[(), ('Bola',), ('Gol',), ('Jogador',), ('Juiz',), ('Campo',), ('Tecnico',), ('Bola', 'Gol'), ('Bola', 'Jogador'), ('Bola', 'Juiz'), ('Bola', 'Campo'), ('Bola', 'Tecnico'), ('Gol', 'Jogador'), ('Gol', 'Juiz'), ('Gol', 'Campo'), ('Gol', 'Tecnico'), ('Jogador', 'Juiz'), ('Jogador', 'Campo'), ('Jogador', 'Tecnico'), ('Juiz', 'Campo'), ('Juiz', 'Tecnico'), ('Campo', 'Tecnico'), ('Bola', 'Gol', 'Jogador'), ('Bola', 'Gol', 'Juiz'), ('Bola', 'Gol', 'Campo'), ('Bola', 'Gol', 'Tecnico'), ('Bola', 'Jogador', 'Juiz'), ('Bola', 'Jogador', 'Campo'), ('Bola', 'Jogador', 'Tecnico'), ('Bola', 'Juiz', 'Campo'), ('Bola', 'Juiz', 'Tecnico'), ('Bola', 'Campo', 'Tecnico'), ('Gol', 'Jogador', 'Juiz'), ('Gol', 'Jogador', 'Campo'), ('Gol', 'Jogador', 'Tecnico'), ('Gol', 'Juiz', 'Campo'), ('Gol', 'Juiz', 'Tecnico'), ('Gol', 'Campo', 'Tecnico'), ('Jogador', 'Juiz', 'Campo'), ('Jogador', 'Juiz', 'Tecnico'), ('Jogador', 'Campo', 'Tecnico'), ('Juiz', 'Campo', 'Tecnico'), ('Bola', 'Gol', 'Jogador', 'Juiz'), ('Bola', 'Gol', 'Jogador', 'Campo'), ('Bola', 'Gol', 'Jogador', 'Tecnico'), ('Bola', 'Gol', 'Juiz', 'Campo'), ('Bola', 'Gol', 'Juiz', 'Tecnico'), ('Bola', 'Gol', 'Campo', 'Tecnico'), ('Bola', 'Jogador', 'Juiz', 'Campo'), ('Bola', 'Jogador', 'Juiz', 'Tecnico'), ('Bola', 'Jogador', 'Campo', 'Tecnico'), ('Bola', 'Juiz', 'Campo', 'Tecnico'), ('Gol', 'Jogador', 'Juiz', 'Campo'), ('Gol', 'Jogador', 'Juiz', 'Tecnico'), ('Gol', 'Jogador', 'Campo', 'Tecnico'), ('Gol', 'Juiz', 'Campo', 'Tecnico'), ('Jogador', 'Juiz', 'Campo', 'Tecnico'), ('Bola', 'Gol', 'Jogador', 'Juiz', 'Campo'), ('Bola', 'Gol', 'Jogador', 'Juiz', 'Tecnico'), ('Bola', 'Gol', 'Jogador', 'Campo', 'Tecnico'), ('Bola', 'Gol', 'Juiz', 'Campo', 'Tecnico'), ('Bola', 'Jogador', 'Juiz', 'Campo', 'Tecnico'), ('Gol', 'Jogador', 'Juiz', 'Campo', 'Tecnico'), ('Bola', 'Gol', 'Jogador', 'Juiz', 'Campo', 'Tecnico')]\n"
          ]
        }
      ]
    }
  ]
}